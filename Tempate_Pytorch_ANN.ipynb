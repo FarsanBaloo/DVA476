{
 "cells": [
  {
   "cell_type": "markdown",
   "metadata": {
    "id": "Ow4IWfKC61FX"
   },
   "source": [
    "### Importing the Libraries"
   ]
  },
  {
   "cell_type": "code",
   "execution_count": 97,
   "metadata": {
    "id": "RX20K7qOhwJe"
   },
   "outputs": [],
   "source": [
    "# Load essential libraries\n",
    "\n",
    "import matplotlib.pyplot as plt\n",
    "import numpy as np\n",
    "import pandas as pd \n",
    "\n",
    "import glob,string\n",
    "import codecs\n",
    "from tqdm import tqdm\n",
    "from PIL import Image\n",
    "\n",
    "from torchinfo import summary\n",
    "\n",
    "import torch\n",
    "import torch.nn as nn\n",
    "import torch.optim as optim\n",
    "import torch.nn.functional as F\n",
    "from torchvision import datasets, transforms\n",
    "from torch.utils.data import DataLoader, Dataset\n",
    "from torchvision import transforms\n",
    "from skimage.color import rgb2gray\n",
    "from skimage.filters import sobel\n",
    "from skimage.exposure import histogram as sk_hist\n",
    "\n"
   ]
  },
  {
   "cell_type": "code",
   "execution_count": 98,
   "metadata": {},
   "outputs": [],
   "source": [
    "def contructDataframe(file_list):\n",
    "    \"\"\"\n",
    "    this function builds a data frame which contains \n",
    "    the path to image and the tag/object name using the prefix of the image name\n",
    "    \"\"\"\n",
    "    data=[]\n",
    "    for file in tqdm(file_list):\n",
    "        prefix = file.split(\"/\")[-1].split(\"__\")[0]\n",
    "        label = int(prefix.lstrip(string.ascii_letters)) -1 # for zero-based for pytorch crossentropy\n",
    "        data.append((file,label,prefix))\n",
    "    return pd.DataFrame(data,columns=['path','label','class'])\n"
   ]
  },
  {
   "cell_type": "code",
   "execution_count": 99,
   "metadata": {},
   "outputs": [],
   "source": [
    "class CreateDataset(Dataset):\n",
    "    def __init__(self, dataframe, transform=None):\n",
    "        df = dataframe.reset_index(drop=True)\n",
    "        self.paths = df[\"path\"].tolist()\n",
    "        self.targets = df[\"label\"].astype(int).tolist()\n",
    "        self.transform = transform\n",
    "\n",
    "        label_to_class = dict(zip(df[\"label\"], df[\"class\"]))\n",
    "        self.classes = [label_to_class[i] for i in sorted(label_to_class.keys())]\n",
    "        self.class_to_idx = {name: i for i, name in enumerate(self.classes)}\n",
    "\n",
    "    def __len__(self): \n",
    "        return len(self.paths)\n",
    "\n",
    "    def __getitem__(self, idx):\n",
    "        img = Image.open(self.paths[idx]).convert(\"RGB\")\n",
    "        if self.transform:\n",
    "            img = self.transform(img)\n",
    "        return img, torch.tensor(self.targets[idx], dtype=torch.long)"
   ]
  },
  {
   "cell_type": "code",
   "execution_count": null,
   "metadata": {},
   "outputs": [],
   "source": [
    "def feature_extraction1(pil, bins=32, edge_thresh=0.2):\n",
    "    g = rgb2gray(np.asarray(pil.convert(\"RGB\")))    \n",
    "\n",
    "    hist, _ = sk_hist(g, nbins=bins, source_range='dtype', normalize=True)\n",
    "    hist = hist.astype(np.float32)\n",
    "\n",
    "    mag = sobel(g).astype(np.float32)\n",
    "    mean_mag = np.float32(mag.mean())\n",
    "    edge_density = np.float32((mag > edge_thresh).mean())\n",
    "\n",
    "\n",
    "    return torch.from_numpy(np.concatenate([hist, [mean_mag, edge_density]])).float()\n"
   ]
  },
  {
   "cell_type": "code",
   "execution_count": 137,
   "metadata": {},
   "outputs": [],
   "source": [
    "from skimage.color import rgb2gray, rgb2hsv\n",
    "from skimage.exposure import histogram as sk_hist\n",
    "from skimage.filters import sobel\n",
    "\n",
    "def feature_extraction(pil, bins=32, hsv_bins=16, edge_thresh=0.2):\n",
    "\n",
    "    rgb = np.asarray(pil.convert(\"RGB\"))\n",
    "    g   = rgb2gray(rgb)\n",
    "\n",
    "    # Grå-hist\n",
    "    hist_g, _ = sk_hist(g, nbins=bins, source_range='dtype', normalize=True)\n",
    "    hist_g = hist_g.astype(np.float32)\n",
    "\n",
    "    # HSV-hist per kanal\n",
    "    hsv = rgb2hsv(rgb)\n",
    "    H,_ = sk_hist(hsv[...,0], nbins=hsv_bins, source_range='dtype', normalize=True)\n",
    "    S,_ = sk_hist(hsv[...,1], nbins=hsv_bins, source_range='dtype', normalize=True)\n",
    "    V,_ = sk_hist(hsv[...,2], nbins=hsv_bins, source_range='dtype', normalize=True)\n",
    "    H = H.astype(np.float32); S = S.astype(np.float32); V = V.astype(np.float32)\n",
    "\n",
    "    # Sobel på gråskala (struktur)\n",
    "    mag = sobel(g).astype(np.float32)\n",
    "    mean_mag     = np.float32(mag.mean())\n",
    "    edge_density = np.float32((mag > edge_thresh).mean())\n",
    "\n",
    "    feat = np.concatenate([hist_g, H, S, V, [mean_mag, edge_density]]).astype(np.float32)\n",
    "    return torch.from_numpy(feat)\n"
   ]
  },
  {
   "cell_type": "markdown",
   "metadata": {},
   "source": [
    "### Loading the Dataset Coil-100 dataset"
   ]
  },
  {
   "cell_type": "code",
   "execution_count": 174,
   "metadata": {},
   "outputs": [],
   "source": [
    "def get_coil100_train_valid_loader(batch_size, percent_train=0.8, shuffle=True, random_seed=42):\n",
    "    \n",
    "    path = 'coil-100/*.png'\n",
    "    files=glob.glob(path)\n",
    "    \n",
    "\n",
    "    transform = transforms.Compose([\n",
    "        #transforms.Resize((64, 64)),\n",
    "        #transforms.RandomHorizontalFlip(),\n",
    "        transforms.Lambda(lambda pil: feature_extraction(pil, bins=32, edge_thresh=0.2)),\n",
    "    ])\n",
    "\n",
    "    dataset = CreateDataset(contructDataframe(files), transform=transform)\n",
    "    classes = dataset.classes\n",
    "\n",
    "    # --- Define split sizes ---\n",
    "    dataset_size = len(dataset)   \n",
    "    train_size = int(percent_train * dataset_size)   # 80%\n",
    "    val_size   = int(0.15 * dataset_size)  # 15%\n",
    "    test_size  = dataset_size - train_size - val_size  # rest\n",
    "\n",
    "    # --- Split dataset ---\n",
    "    train_dataset, val_dataset, test_dataset = torch.utils.data.random_split(\n",
    "        dataset,\n",
    "        [train_size, val_size, test_size],\n",
    "        generator=torch.Generator().manual_seed(random_seed)  \n",
    "    )\n",
    "\n",
    "    # --- Create DataLoaders ---\n",
    "    train_loader = DataLoader(train_dataset, batch_size=batch_size, shuffle=True)\n",
    "    valid_loader = DataLoader(val_dataset, batch_size=batch_size, shuffle=False)\n",
    "    test_loader = DataLoader(test_dataset, batch_size=batch_size, shuffle=False)\n",
    "\n",
    "    return train_loader, valid_loader, test_loader, classes\n",
    "\n"
   ]
  },
  {
   "cell_type": "markdown",
   "metadata": {
    "id": "qpPALBuI66wP"
   },
   "source": [
    "### Loading the Dataset EuroSAT dataset"
   ]
  },
  {
   "cell_type": "code",
   "execution_count": 175,
   "metadata": {
    "id": "sgLyur4ChyY-"
   },
   "outputs": [],
   "source": [
    "def get_EuroSAT_train_valid_loader(data_dir, batch_size, percent_train=0.8, shuffle=True, random_seed=42):\n",
    "\n",
    "    transform = transforms.Compose([\n",
    "       # transforms.Resize((64, 64)),\n",
    "        #transforms.RandomHorizontalFlip(),\n",
    "        transforms.Lambda(lambda pil: feature_extraction(pil, bins=32, edge_thresh=0.2)),\n",
    "        \n",
    "    ])\n",
    "\n",
    "    # load the dataset\n",
    "    dataset = datasets.EuroSAT(root=data_dir, download=True, transform=transform,)\n",
    "    print(type(dataset))\n",
    "    classes = dataset.classes\n",
    "\n",
    "    # --- Define split sizes ---\n",
    "    dataset_size = len(dataset)   # ~27,000 images\n",
    "    train_size = int(percent_train * dataset_size)   # 80%\n",
    "    val_size   = int(0.15 * dataset_size)  # 15%\n",
    "    test_size  = dataset_size - train_size - val_size  #  rest\n",
    "\n",
    "    # --- Split dataset ---\n",
    "    train_dataset, val_dataset, test_dataset = torch.utils.data.random_split(\n",
    "        dataset,\n",
    "        [train_size, val_size, test_size],\n",
    "        generator=torch.Generator().manual_seed(random_seed)  \n",
    "    )\n",
    "\n",
    "    # --- Create DataLoaders ---\n",
    "    train_loader = DataLoader(train_dataset, batch_size=batch_size, shuffle=True)\n",
    "    valid_loader = DataLoader(val_dataset, batch_size=batch_size, shuffle=False)\n",
    "    test_loader = DataLoader(test_dataset, batch_size=batch_size, shuffle=False)\n",
    "\n",
    "    return (train_loader, valid_loader, test_loader, classes)\n"
   ]
  },
  {
   "cell_type": "markdown",
   "metadata": {
    "id": "pC1XUdzEC5MH"
   },
   "source": [
    "### Train and validate"
   ]
  },
  {
   "cell_type": "code",
   "execution_count": 162,
   "metadata": {
    "id": "36fnI75-h987"
   },
   "outputs": [],
   "source": [
    "def train(model, train_loader, valid_loader, num_epochs=10):\n",
    "  train_losses, valid_losses = [], []\n",
    "\n",
    "\n",
    "  for epoch in range(num_epochs):\n",
    "    model.train()\n",
    "    running_loss = 0\n",
    "    total_samples = 0\n",
    "\n",
    "    for images, labels in train_loader:\n",
    "      images = images.to(device)\n",
    "      labels = labels.to(device)\n",
    "\n",
    "      optimizer.zero_grad()\n",
    "      outputs = model(images)\n",
    "      loss = criterion(outputs, labels)\n",
    "      loss.backward()\n",
    "      optimizer.step()\n",
    "\n",
    "      batch_size = labels.size(0)\n",
    "      running_loss += loss.item() * batch_size\n",
    "      total_samples += batch_size\n",
    "\n",
    "    epoch_train_loss = running_loss / total_samples if total_samples > 0 else 0.0\n",
    "    train_losses.append(epoch_train_loss)\n",
    "\n",
    "    # Validation after each epoch\n",
    "    val_loss, val_acc = evaluate(model, valid_loader)\n",
    "    valid_losses.append(val_loss)\n",
    "\n",
    "    print(f\"Epoch {epoch+1}/{num_epochs} - Train Loss: {epoch_train_loss:.4f} - Val Loss: {val_loss:.4f} - Val Acc: {val_acc:.2f}%\")\n",
    "\n",
    "  plot_loss(train_losses, valid_losses)\n",
    "  return train_losses, valid_losses"
   ]
  },
  {
   "cell_type": "markdown",
   "metadata": {
    "id": "8MzJJTEUDw0F"
   },
   "source": [
    "### Test your model"
   ]
  },
  {
   "cell_type": "code",
   "execution_count": 163,
   "metadata": {
    "id": "UrrigWCZVz5u"
   },
   "outputs": [],
   "source": [
    "def plot_loss(train_losses, val_losses):\n",
    "    \"\"\"\n",
    "    Plot training and validation loss over epochs.\n",
    "\n",
    "    Args:\n",
    "        train_losses (list): Training loss per epoch\n",
    "        val_losses (list): Validation loss per epoch\n",
    "    \"\"\"\n",
    "    epochs = range(1, len(train_losses) + 1)\n",
    "    plt.figure(figsize=(8, 6))\n",
    "    plt.plot(epochs, train_losses, label=\"Training Loss\", marker='o')\n",
    "    plt.plot(epochs, val_losses, label=\"Validation Loss\", marker='s')\n",
    "    plt.xlabel(\"Epochs\")\n",
    "    plt.ylabel(\"Loss\")\n",
    "    plt.title(\"Training vs Validation Loss\")\n",
    "    plt.legend()\n",
    "    plt.grid(True, linestyle=\"--\", alpha=0.6)\n",
    "    plt.show()"
   ]
  },
  {
   "cell_type": "code",
   "execution_count": 170,
   "metadata": {
    "id": "zJRp_fNCESkh"
   },
   "outputs": [],
   "source": [
    "# --- Evaluation ---\n",
    "def evaluate(model, data_loader):\n",
    "    model.eval()\n",
    "    total_loss = 0.0\n",
    "    total_correct = 0\n",
    "    total_samples = 0\n",
    "\n",
    "    with torch.no_grad():\n",
    "        for images, labels in data_loader:\n",
    "            images = images.to(device)\n",
    "            labels = labels.to(device)\n",
    "\n",
    "            outputs = model(images)\n",
    "            loss = criterion(outputs, labels)\n",
    "\n",
    "            total_loss += loss.item() * labels.size(0)\n",
    "            _, predicted = torch.max(outputs, 1)\n",
    "            total_correct += (predicted == labels).sum().item()\n",
    "            total_samples += labels.size(0)\n",
    "\n",
    "    avg_loss = total_loss / total_samples if total_samples > 0 else 0.0\n",
    "    accuracy = 100.0 * total_correct / total_samples if total_samples > 0 else 0.0\n",
    "    model.train()\n",
    "    return avg_loss, accuracy\n"
   ]
  },
  {
   "cell_type": "code",
   "execution_count": 149,
   "metadata": {},
   "outputs": [
    {
     "name": "stdout",
     "output_type": "stream",
     "text": [
      "mps\n"
     ]
    }
   ],
   "source": [
    "# just for checking if GPU is available MAC M1/M2 or CUDA GPU\n",
    "if torch.backends.mps.is_available():\n",
    "    device = torch.device('mps')\n",
    "elif torch.cuda.is_available():\n",
    "    device = torch.device('cuda')\n",
    "else:\n",
    "    device = torch.device('cpu')\n",
    "print(device)\n"
   ]
  },
  {
   "cell_type": "markdown",
   "metadata": {},
   "source": [
    "# Chose a Dataset and load it to be used to train the ANN model"
   ]
  },
  {
   "cell_type": "code",
   "execution_count": 176,
   "metadata": {},
   "outputs": [
    {
     "name": "stdout",
     "output_type": "stream",
     "text": [
      "<class 'torchvision.datasets.eurosat.EuroSAT'>\n",
      "torch.Size([128, 82])\n"
     ]
    }
   ],
   "source": [
    "# load EuroSAT dataset\n",
    "train_loader, valid_loader, test_loader, classes = get_EuroSAT_train_valid_loader(data_dir = './data',batch_size = 128, percent_train=0.8)\n",
    "\n",
    "# Get a batch of images\n",
    "examples = iter(train_loader)\n",
    "images, labels = next(examples)\n",
    "\n",
    "print(images.shape)"
   ]
  },
  {
   "cell_type": "code",
   "execution_count": 139,
   "metadata": {},
   "outputs": [
    {
     "name": "stderr",
     "output_type": "stream",
     "text": [
      "100%|██████████| 7200/7200 [00:00<00:00, 556673.65it/s]\n"
     ]
    },
    {
     "name": "stdout",
     "output_type": "stream",
     "text": [
      "torch.Size([128, 82])\n"
     ]
    }
   ],
   "source": [
    "# load Coil-100 dataset\n",
    "train_loader, valid_loader, test_loader, classes = get_coil100_train_valid_loader(batch_size = 128, percent_train=0.8)\n",
    "\n",
    "# Get a batch of images\n",
    "examples = iter(train_loader)\n",
    "images, labels = next(examples)\n",
    "\n",
    "print(images.shape)\n"
   ]
  },
  {
   "cell_type": "code",
   "execution_count": 171,
   "metadata": {},
   "outputs": [],
   "source": [
    "class BaseANN(nn.Module):\n",
    "    def __init__(self, in_features: int, num_classes: int, p: float = 0.3):\n",
    "        super().__init__()\n",
    "        self.norm = nn.LayerNorm(in_features)\n",
    "        self.lin1 = nn.Linear(in_features=in_features, out_features=128)\n",
    "        self.drop1 = nn.Dropout(p)\n",
    "        self.lin2 = nn.Linear(in_features=128, out_features=64)\n",
    "        self.drop2 = nn.Dropout(p)\n",
    "        self.lin3 = nn.Linear(in_features=64, out_features=num_classes)\n",
    "\n",
    "    def forward(self, x):\n",
    "        x = self.norm(x)\n",
    "        x = F.relu(self.lin1(x))\n",
    "        x = self.drop1(x)\n",
    "        x = F.relu(self.lin2(x))\n",
    "        x = self.drop2(x)\n",
    "        x = self.lin3(x)\n",
    "        return x"
   ]
  },
  {
   "cell_type": "markdown",
   "metadata": {},
   "source": [
    "# start the training & evaluation of the model and then final test the model to predict the classes"
   ]
  },
  {
   "cell_type": "code",
   "execution_count": 179,
   "metadata": {
    "colab": {
     "base_uri": "https://localhost:8080/",
     "height": 929
    },
    "id": "NJhKmzgUFIdI",
    "outputId": "a7369e9c-f487-4cb7-aaf3-412bd040a47c"
   },
   "outputs": [
    {
     "name": "stdout",
     "output_type": "stream",
     "text": [
      "Epoch 1/20 - Train Loss: 1.5393 - Val Loss: 1.1205 - Val Acc: 60.05%\n",
      "Epoch 2/20 - Train Loss: 1.1042 - Val Loss: 0.9352 - Val Acc: 65.46%\n",
      "Epoch 3/20 - Train Loss: 0.9779 - Val Loss: 0.8538 - Val Acc: 69.38%\n",
      "Epoch 4/20 - Train Loss: 0.9132 - Val Loss: 0.7998 - Val Acc: 71.21%\n",
      "Epoch 5/20 - Train Loss: 0.8678 - Val Loss: 0.7735 - Val Acc: 72.30%\n",
      "Epoch 6/20 - Train Loss: 0.8342 - Val Loss: 0.7299 - Val Acc: 73.65%\n",
      "Epoch 7/20 - Train Loss: 0.8043 - Val Loss: 0.7104 - Val Acc: 74.91%\n",
      "Epoch 8/20 - Train Loss: 0.7823 - Val Loss: 0.6928 - Val Acc: 75.04%\n",
      "Epoch 9/20 - Train Loss: 0.7631 - Val Loss: 0.6713 - Val Acc: 75.56%\n",
      "Epoch 10/20 - Train Loss: 0.7458 - Val Loss: 0.6634 - Val Acc: 75.70%\n",
      "Epoch 11/20 - Train Loss: 0.7303 - Val Loss: 0.6450 - Val Acc: 76.54%\n",
      "Epoch 12/20 - Train Loss: 0.7179 - Val Loss: 0.6350 - Val Acc: 77.04%\n",
      "Epoch 13/20 - Train Loss: 0.7063 - Val Loss: 0.6207 - Val Acc: 77.58%\n",
      "Epoch 14/20 - Train Loss: 0.6929 - Val Loss: 0.6142 - Val Acc: 77.70%\n",
      "Epoch 15/20 - Train Loss: 0.6885 - Val Loss: 0.6111 - Val Acc: 77.06%\n",
      "Epoch 16/20 - Train Loss: 0.6723 - Val Loss: 0.5955 - Val Acc: 78.62%\n",
      "Epoch 17/20 - Train Loss: 0.6677 - Val Loss: 0.6027 - Val Acc: 78.00%\n",
      "Epoch 18/20 - Train Loss: 0.6586 - Val Loss: 0.5852 - Val Acc: 78.67%\n",
      "Epoch 19/20 - Train Loss: 0.6523 - Val Loss: 0.5828 - Val Acc: 78.42%\n",
      "Epoch 20/20 - Train Loss: 0.6502 - Val Loss: 0.5866 - Val Acc: 78.47%\n"
     ]
    },
    {
     "data": {
      "image/png": "[encoded data removed]",
      "text/plain": [
       "<Figure size 800x600 with 1 Axes>"
      ]
     },
     "metadata": {},
     "output_type": "display_data"
    },
    {
     "name": "stdout",
     "output_type": "stream",
     "text": [
      "Test Accuracy: 78.89%\n"
     ]
    }
   ],
   "source": [
    "xb ,_ = next(iter(train_loader))       \n",
    "in_dim = xb.shape[1]\n",
    "num_classes=len(classes)\n",
    "\n",
    "model = BaseANN(in_dim, num_classes).to(device)\n",
    "\n",
    "criterion = nn.CrossEntropyLoss()\n",
    "optimizer = optim.Adam(model.parameters(), lr=0.001)\n",
    "\n",
    "\n",
    "# --- Run training ---\n",
    "train(model, train_loader, valid_loader, num_epochs=20)\n",
    "\n",
    "# --- Test accuracy ---\n",
    "_,test_acc = evaluate(model, test_loader)\n",
    "print(f\"Test Accuracy: {test_acc:.2f}%\")"
   ]
  },
  {
   "cell_type": "code",
   "execution_count": 178,
   "metadata": {},
   "outputs": [
    {
     "data": {
      "text/plain": [
       "==========================================================================================\n",
       "Layer (type:depth-idx)                   Output Shape              Param #\n",
       "==========================================================================================\n",
       "BaseANN                                  [128, 10]                 --\n",
       "├─LayerNorm: 1-1                         [128, 82]                 164\n",
       "├─Linear: 1-2                            [128, 128]                10,624\n",
       "├─Dropout: 1-3                           [128, 128]                --\n",
       "├─Linear: 1-4                            [128, 64]                 8,256\n",
       "├─Dropout: 1-5                           [128, 64]                 --\n",
       "├─Linear: 1-6                            [128, 10]                 650\n",
       "==========================================================================================\n",
       "Total params: 19,694\n",
       "Trainable params: 19,694\n",
       "Non-trainable params: 0\n",
       "Total mult-adds (M): 2.52\n",
       "==========================================================================================\n",
       "Input size (MB): 0.04\n",
       "Forward/backward pass size (MB): 0.29\n",
       "Params size (MB): 0.08\n",
       "Estimated Total Size (MB): 0.41\n",
       "=========================================================================================="
      ]
     },
     "execution_count": 178,
     "metadata": {},
     "output_type": "execute_result"
    }
   ],
   "source": [
    "\n",
    "summary(model, input_size=(128, in_dim))\n"
   ]
  }
 ],
 "metadata": {
  "accelerator": "GPU",
  "colab": {
   "gpuType": "T4",
   "provenance": []
  },
  "kernelspec": {
   "display_name": "PyTorch",
   "language": "python",
   "name": "python3"
  },
  "language_info": {
   "codemirror_mode": {
    "name": "ipython",
    "version": 3
   },
   "file_extension": ".py",
   "mimetype": "text/x-python",
   "name": "python",
   "nbconvert_exporter": "python",
   "pygments_lexer": "ipython3",
   "version": "3.10.18"
  }
 },
 "nbformat": 4,
 "nbformat_minor": 4
}
