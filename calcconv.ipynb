{
 "cells": [
  {
   "cell_type": "code",
   "execution_count": null,
   "id": "f2719733",
   "metadata": {},
   "outputs": [
    {
     "name": "stdout",
     "output_type": "stream",
     "text": [
      "[[ 60 113  56 139  85]\n",
      " [ 73 121  54  84 128]\n",
      " [131  99  70 129 127]\n",
      " [ 80  57 115  69 134]\n",
      " [104 126 123  95 130]]\n"
     ]
    }
   ],
   "source": [
    "\n",
    "import numpy as np\n",
    "image = np.array([[60,113,56,139,85],\n",
    "                  [73,121,54,84,128],\n",
    "                  [131,99,70,129,127],\n",
    "                  [80,57,115,69,134],\n",
    "                  [104,126,123,95,130]]).reshape(5, 5)\n",
    "print(image)\n",
    "\n"
   ]
  },
  {
   "cell_type": "code",
   "execution_count": null,
   "id": "98f90ab3",
   "metadata": {},
   "outputs": [
    {
     "name": "stdout",
     "output_type": "stream",
     "text": [
      "[[ 0 -1  0]\n",
      " [-1  5 -1]\n",
      " [ 0 -1  0]]\n"
     ]
    }
   ],
   "source": [
    "kernel = np.array([[0,-1,0],\n",
    "                   [-1,5,-1],\n",
    "                   [0,-1,0]]).reshape(3, 3)\n",
    "print(kernel)"
   ]
  },
  {
   "cell_type": "code",
   "execution_count": 6,
   "id": "4d6cd23f",
   "metadata": {},
   "outputs": [],
   "source": [
    "# how to do elementwise multiplication and sum the result\n",
    "def convolve2d(image, kernel):\n",
    "    kernel_height, kernel_width = kernel.shape\n",
    "    image_height, image_width = image.shape\n",
    "    pad_height = kernel_height // 2\n",
    "    pad_width = kernel_width // 2\n",
    "    padded_image = np.pad(image, ((pad_height, pad_height), (pad_width, pad_width)), mode='constant')\n",
    "    output = np.zeros_like(image)\n",
    "    \n",
    "    for i in range(image_height):\n",
    "        for j in range(image_width):\n",
    "            region = padded_image[i:i+kernel_height, j:j+kernel_width]\n",
    "            output[i, j] = np.sum(region * kernel)\n",
    "    \n",
    "    return output"
   ]
  },
  {
   "cell_type": "code",
   "execution_count": 7,
   "id": "75fbdfa6",
   "metadata": {},
   "outputs": [
    {
     "data": {
      "text/plain": [
       "array([[ 114,  328,  -26,  470,  158],\n",
       "       [  53,  266,  -61,  -30,  344],\n",
       "       [ 403,  116,  -47,  295,  244],\n",
       "       [ 108, -135,  256, -128,  344],\n",
       "       [ 314,  346,  279,  153,  421]])"
      ]
     },
     "execution_count": 7,
     "metadata": {},
     "output_type": "execute_result"
    }
   ],
   "source": [
    "convolve2d(image, kernel)"
   ]
  },
  {
   "cell_type": "code",
   "execution_count": null,
   "id": "60544a19",
   "metadata": {},
   "outputs": [],
   "source": []
  }
 ],
 "metadata": {
  "kernelspec": {
   "display_name": "PyTorch",
   "language": "python",
   "name": "python3"
  },
  "language_info": {
   "codemirror_mode": {
    "name": "ipython",
    "version": 3
   },
   "file_extension": ".py",
   "mimetype": "text/x-python",
   "name": "python",
   "nbconvert_exporter": "python",
   "pygments_lexer": "ipython3",
   "version": "3.10.18"
  }
 },
 "nbformat": 4,
 "nbformat_minor": 5
}
